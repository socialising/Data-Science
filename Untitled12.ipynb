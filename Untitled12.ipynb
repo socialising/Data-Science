{
  "nbformat": 4,
  "nbformat_minor": 0,
  "metadata": {
    "colab": {
      "provenance": [],
      "authorship_tag": "ABX9TyOCfl+QYh4aXtisF8agiWjA",
      "include_colab_link": true
    },
    "kernelspec": {
      "name": "python3",
      "display_name": "Python 3"
    },
    "language_info": {
      "name": "python"
    }
  },
  "cells": [
    {
      "cell_type": "markdown",
      "metadata": {
        "id": "view-in-github",
        "colab_type": "text"
      },
      "source": [
        "<a href=\"https://colab.research.google.com/github/socialising/Data-Science/blob/main/Untitled12.ipynb\" target=\"_parent\"><img src=\"https://colab.research.google.com/assets/colab-badge.svg\" alt=\"Open In Colab\"/></a>"
      ]
    },
    {
      "cell_type": "code",
      "execution_count": null,
      "metadata": {
        "colab": {
          "base_uri": "https://localhost:8080/"
        },
        "id": "wt_pCngrgzA5",
        "outputId": "8bfd9ab8-2f01-48c2-90a8-b40620f221b8"
      },
      "outputs": [
        {
          "output_type": "stream",
          "name": "stdout",
          "text": [
            "Decision Tree Performance:\n",
            "Mean Squared Error (MSE): 58.828433734939765\n",
            "Mean Absolute Error (MAE): 5.595180722891567\n",
            "Root Mean Squared Error (RMSE): 7.669969604564269\n",
            "\n",
            "Random Forest Performance:\n",
            "Mean Squared Error (MSE): 34.60981792762854\n",
            "Mean Absolute Error (MAE): 4.236691241155093\n",
            "Root Mean Squared Error (RMSE): 5.88301095763288\n"
          ]
        }
      ],
      "source": [
        "import pandas as pd\n",
        "import numpy as np\n",
        "from sklearn.model_selection import train_test_split\n",
        "from sklearn.tree import DecisionTreeRegressor\n",
        "from sklearn.ensemble import RandomForestRegressor\n",
        "from sklearn.metrics import mean_squared_error, mean_absolute_error\n",
        "\n",
        "# Load the dataset\n",
        "data = pd.read_csv(\"Real estate.csv\")\n",
        "\n",
        "# Split features and target variable\n",
        "X = data.drop(columns=[\"No\", \"X1 transaction date\", \"Y house price of unit area\"])\n",
        "y = data[\"Y house price of unit area\"]\n",
        "\n",
        "# Split data into training and testing sets\n",
        "X_train, X_test, y_train, y_test = train_test_split(X, y, test_size=0.2, random_state=42)\n",
        "\n",
        "# Train the decision tree model\n",
        "decision_tree = DecisionTreeRegressor(random_state=42)\n",
        "decision_tree.fit(X_train, y_train)\n",
        "\n",
        "# Make predictions with the decision tree model\n",
        "y_pred_dt = decision_tree.predict(X_test)\n",
        "# Evaluate the decision tree model\n",
        "mse_dt = mean_squared_error(y_test, y_pred_dt)\n",
        "mae_dt = mean_absolute_error(y_test, y_pred_dt)\n",
        "rmse_dt = np.sqrt(mse_dt)\n",
        "\n",
        "print(\"Decision Tree Performance:\")\n",
        "print(\"Mean Squared Error (MSE):\", mse_dt)\n",
        "print(\"Mean Absolute Error (MAE):\", mae_dt)\n",
        "print(\"Root Mean Squared Error (RMSE):\", rmse_dt)\n",
        "print()\n",
        "\n",
        "# Train the random forest model\n",
        "random_forest = RandomForestRegressor(n_estimators=100, random_state=42)\n",
        "random_forest.fit(X_train, y_train)\n",
        "# Make predictions with the random forest model\n",
        "y_pred_rf = random_forest.predict(X_test)\n",
        "# Evaluate the random forest model\n",
        "mse_rf = mean_squared_error(y_test, y_pred_rf)\n",
        "mae_rf = mean_absolute_error(y_test, y_pred_rf)\n",
        "rmse_rf = np.sqrt(mse_rf)\n",
        "\n",
        "print(\"Random Forest Performance:\")\n",
        "print(\"Mean Squared Error (MSE):\", mse_rf)\n",
        "print(\"Mean Absolute Error (MAE):\", mae_rf)\n",
        "print(\"Root Mean Squared Error (RMSE):\", rmse_rf)\n",
        "\n"
      ]
    },
    {
      "cell_type": "code",
      "source": [
        "import pandas as pd\n",
        "import numpy as np\n",
        "from sklearn.model_selection import train_test_split\n",
        "from sklearn.linear_model import LinearRegression\n",
        "from sklearn.metrics import mean_squared_error, mean_absolute_error\n",
        "\n",
        "# Load the dataset\n",
        "data = pd.read_csv(\"Real estate.csv\")\n",
        "\n",
        "# Split features and target variable\n",
        "X = data.drop(columns=[\"No\", \"X1 transaction date\", \"Y house price of unit area\"])\n",
        "y = data[\"Y house price of unit area\"]\n",
        "\n",
        "# Split data into training and testing sets\n",
        "X_train, X_test, y_train, y_test = train_test_split(X, y, test_size=0.2, random_state=42)\n",
        "\n",
        "# Train the linear regression model\n",
        "model = LinearRegression()\n",
        "model.fit(X_train, y_train)\n",
        "\n",
        "# Make predictions\n",
        "y_pred = model.predict(X_test)\n",
        "\n",
        "# Evaluate the model\n",
        "mse = mean_squared_error(y_test, y_pred)\n",
        "mae = mean_absolute_error(y_test, y_pred)\n",
        "rmse = np.sqrt(mse)\n",
        "\n",
        "print(\"Mean Squared Error (MSE):\", mse)\n",
        "print(\"Mean Absolute Error (MAE):\", mae)\n",
        "print(\"Root Mean Squared Error (RMSE):\", rmse)"
      ],
      "metadata": {
        "colab": {
          "base_uri": "https://localhost:8080/"
        },
        "id": "njIVW2Khh24w",
        "outputId": "123d0489-92ae-4393-b67f-035bc2f6718b"
      },
      "execution_count": null,
      "outputs": [
        {
          "output_type": "stream",
          "name": "stdout",
          "text": [
            "Mean Squared Error (MSE): 54.58094520086248\n",
            "Mean Absolute Error (MAE): 5.350138374356204\n",
            "Root Mean Squared Error (RMSE): 7.387891796775484\n"
          ]
        }
      ]
    }
  ]
}