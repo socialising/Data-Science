{
  "nbformat": 4,
  "nbformat_minor": 0,
  "metadata": {
    "colab": {
      "provenance": [],
      "toc_visible": true,
      "authorship_tag": "ABX9TyNlB+ayiHqgRUY1MJgA8pts",
      "include_colab_link": true
    },
    "kernelspec": {
      "name": "python3",
      "display_name": "Python 3"
    },
    "language_info": {
      "name": "python"
    }
  },
  "cells": [
    {
      "cell_type": "markdown",
      "metadata": {
        "id": "view-in-github",
        "colab_type": "text"
      },
      "source": [
        "<a href=\"https://colab.research.google.com/github/socialising/python-site/blob/main/Untitled1.ipynb\" target=\"_parent\"><img src=\"https://colab.research.google.com/assets/colab-badge.svg\" alt=\"Open In Colab\"/></a>"
      ]
    },
    {
      "cell_type": "code",
      "execution_count": null,
      "metadata": {
        "id": "jRIvIAV4kNst"
      },
      "outputs": [],
      "source": [
        "import pandas as pd\n",
        "data = pd.read_csv('/Documents/RoadAccident.csv')\n",
        "x=pd.DataFrame(data['LSTAT'])\n",
        "y=pd.DataFrame(data['MEDV'])"
      ]
    },
    {
      "cell_type": "code",
      "source": [
        "import joblib\n",
        "import pickle\n",
        "from sklearn.linear_model import LinearRegression\n",
        "model = LinearRegression()\n",
        "model.fit(x, y)\n",
        "joblib.dump(model, 'linear_regression_model.pkl')\n",
        "with open('linear_regression_model.pkl', 'wb') as file:\n",
        " pickle.dump(model, file)"
      ],
      "metadata": {
        "id": "GBzFMXczmIK8"
      },
      "execution_count": null,
      "outputs": []
    }
  ]
}
